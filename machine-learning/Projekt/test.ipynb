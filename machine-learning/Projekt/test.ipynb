{
 "cells": [
  {
   "cell_type": "code",
   "execution_count": 9,
   "metadata": {},
   "outputs": [
    {
     "name": "stdout",
     "output_type": "stream",
     "text": [
      "Path to dataset files: /Users/franek/.cache/kagglehub/datasets/rabieelkharoua/alzheimers-disease-dataset/versions/1\n",
      "\n",
      "Loading alzheimers_disease_data.csv...\n",
      "   PatientID  Age  Gender  Ethnicity  EducationLevel        BMI  Smoking   \n",
      "0       4751   73       0          0               2  22.927749        0  \\\n",
      "1       4752   89       0          0               0  26.827681        0   \n",
      "2       4753   73       0          3               1  17.795882        0   \n",
      "3       4754   74       1          0               1  33.800817        1   \n",
      "4       4755   89       0          0               0  20.716974        0   \n",
      "\n",
      "   AlcoholConsumption  PhysicalActivity  DietQuality  ...  MemoryComplaints   \n",
      "0           13.297218          6.327112     1.347214  ...                 0  \\\n",
      "1            4.542524          7.619885     0.518767  ...                 0   \n",
      "2           19.555085          7.844988     1.826335  ...                 0   \n",
      "3           12.209266          8.428001     7.435604  ...                 0   \n",
      "4           18.454356          6.310461     0.795498  ...                 0   \n",
      "\n",
      "   BehavioralProblems       ADL  Confusion  Disorientation   \n",
      "0                   0  1.725883          0               0  \\\n",
      "1                   0  2.592424          0               0   \n",
      "2                   0  7.119548          0               1   \n",
      "3                   1  6.481226          0               0   \n",
      "4                   0  0.014691          0               0   \n",
      "\n",
      "   PersonalityChanges  DifficultyCompletingTasks  Forgetfulness  Diagnosis   \n",
      "0                   0                          1              0          0  \\\n",
      "1                   0                          0              1          0   \n",
      "2                   0                          1              0          0   \n",
      "3                   0                          0              0          0   \n",
      "4                   1                          1              0          0   \n",
      "\n",
      "   DoctorInCharge  \n",
      "0       XXXConfid  \n",
      "1       XXXConfid  \n",
      "2       XXXConfid  \n",
      "3       XXXConfid  \n",
      "4       XXXConfid  \n",
      "\n",
      "[5 rows x 35 columns]\n"
     ]
    }
   ],
   "source": [
    "import kagglehub\n",
    "\n",
    "# Download latest version\n",
    "path = kagglehub.dataset_download(\"rabieelkharoua/alzheimers-disease-dataset\")\n",
    "\n",
    "# Print path to dataset files\n",
    "print(\"Path to dataset files:\", path)\n",
    "\n",
    "# Load and print each CSV file in the dataset\n",
    "for file in os.listdir(path):\n",
    "    if file.endswith('.csv'):\n",
    "        print(f\"\\nLoading {file}...\")\n",
    "        df = pd.read_csv(os.path.join(path, file))\n",
    "        print(df.head())"
   ]
  }
 ],
 "metadata": {
  "kernelspec": {
   "display_name": "Python 3",
   "language": "python",
   "name": "python3"
  },
  "language_info": {
   "codemirror_mode": {
    "name": "ipython",
    "version": 3
   },
   "file_extension": ".py",
   "mimetype": "text/x-python",
   "name": "python",
   "nbconvert_exporter": "python",
   "pygments_lexer": "ipython3",
   "version": "3.11.1"
  }
 },
 "nbformat": 4,
 "nbformat_minor": 2
}
